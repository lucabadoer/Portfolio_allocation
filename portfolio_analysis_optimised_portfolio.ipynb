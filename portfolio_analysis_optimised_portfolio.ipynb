{
 "cells": [
  {
   "attachments": {},
   "cell_type": "markdown",
   "metadata": {},
   "source": [
    "# Import necessary libraries"
   ]
  },
  {
   "cell_type": "code",
   "execution_count": 1,
   "metadata": {},
   "outputs": [],
   "source": [
    "import pandas as pd\n",
    "import numpy as np\n",
    "import matplotlib.pyplot as plt\n",
    "import yfinance as yf\n",
    "import datetime as dt"
   ]
  },
  {
   "attachments": {},
   "cell_type": "markdown",
   "metadata": {},
   "source": [
    "# Import and rework data"
   ]
  },
  {
   "cell_type": "code",
   "execution_count": 2,
   "metadata": {},
   "outputs": [
    {
     "data": {
      "text/html": [
       "<div>\n",
       "<style scoped>\n",
       "    .dataframe tbody tr th:only-of-type {\n",
       "        vertical-align: middle;\n",
       "    }\n",
       "\n",
       "    .dataframe tbody tr th {\n",
       "        vertical-align: top;\n",
       "    }\n",
       "\n",
       "    .dataframe thead th {\n",
       "        text-align: right;\n",
       "    }\n",
       "</style>\n",
       "<table border=\"1\" class=\"dataframe\">\n",
       "  <thead>\n",
       "    <tr style=\"text-align: right;\">\n",
       "      <th></th>\n",
       "      <th>CNDX.L</th>\n",
       "      <th>CMOP.L</th>\n",
       "      <th>BTC-GBP</th>\n",
       "    </tr>\n",
       "    <tr>\n",
       "      <th>Date</th>\n",
       "      <th></th>\n",
       "      <th></th>\n",
       "      <th></th>\n",
       "    </tr>\n",
       "  </thead>\n",
       "  <tbody>\n",
       "    <tr>\n",
       "      <th>2018-04-01</th>\n",
       "      <td>NaN</td>\n",
       "      <td>NaN</td>\n",
       "      <td>4876.196777</td>\n",
       "    </tr>\n",
       "    <tr>\n",
       "      <th>2018-04-02</th>\n",
       "      <td>NaN</td>\n",
       "      <td>NaN</td>\n",
       "      <td>5043.645508</td>\n",
       "    </tr>\n",
       "    <tr>\n",
       "      <th>2018-04-03</th>\n",
       "      <td>357.390015</td>\n",
       "      <td>1263.0</td>\n",
       "      <td>5300.426270</td>\n",
       "    </tr>\n",
       "    <tr>\n",
       "      <th>2018-04-04</th>\n",
       "      <td>357.589996</td>\n",
       "      <td>1249.5</td>\n",
       "      <td>4865.365234</td>\n",
       "    </tr>\n",
       "    <tr>\n",
       "      <th>2018-04-05</th>\n",
       "      <td>367.730011</td>\n",
       "      <td>1266.0</td>\n",
       "      <td>4863.598633</td>\n",
       "    </tr>\n",
       "  </tbody>\n",
       "</table>\n",
       "</div>"
      ],
      "text/plain": [
       "                CNDX.L  CMOP.L      BTC-GBP\n",
       "Date                                       \n",
       "2018-04-01         NaN     NaN  4876.196777\n",
       "2018-04-02         NaN     NaN  5043.645508\n",
       "2018-04-03  357.390015  1263.0  5300.426270\n",
       "2018-04-04  357.589996  1249.5  4865.365234\n",
       "2018-04-05  367.730011  1266.0  4863.598633"
      ]
     },
     "execution_count": 2,
     "metadata": {},
     "output_type": "execute_result"
    }
   ],
   "source": [
    "# import stock data \n",
    "\n",
    "#define yesterday \n",
    "\n",
    "yesterday = dt.date.today()\n",
    "\n",
    "last_5_years = dt.date.today() - dt.timedelta(days=1825)\n",
    "\n",
    "tickers = [\n",
    "'CNDX.L',\n",
    "'CMOP.L',\n",
    "'BTC-GBP']\n",
    "\n",
    "# use a for loop to fetch the \"Close\" price data for each ticker\n",
    "dfs = []\n",
    "for ticker in tickers:\n",
    "    t = yf.Ticker(ticker)\n",
    "    data = t.history(start=last_5_years, end=yesterday)\n",
    "    data = pd.DataFrame(data['Close'])\n",
    "    data.columns = [ticker]\n",
    "    data.index = data.index.strftime('%Y-%m-%d')\n",
    "    dfs.append(data)\n",
    "\n",
    "# Merge dataframes using index date\n",
    "df = dfs[0]\n",
    "for i in range(1, len(dfs)):\n",
    "    df = pd.merge(df, dfs[i], how='outer', left_index=True, right_index=True)\n",
    "\n",
    "# Rename the columns with the tickers\n",
    "df.columns = tickers\n",
    "\n",
    "df.head(5)"
   ]
  },
  {
   "cell_type": "code",
   "execution_count": 3,
   "metadata": {},
   "outputs": [
    {
     "data": {
      "text/plain": [
       "CNDX.L     562\n",
       "CMOP.L     562\n",
       "BTC-GBP      0\n",
       "dtype: int64"
      ]
     },
     "execution_count": 3,
     "metadata": {},
     "output_type": "execute_result"
    }
   ],
   "source": [
    "df.isnull().sum()"
   ]
  },
  {
   "cell_type": "code",
   "execution_count": 4,
   "metadata": {},
   "outputs": [
    {
     "data": {
      "text/plain": [
       "CNDX.L     0\n",
       "CMOP.L     0\n",
       "BTC-GBP    0\n",
       "dtype: int64"
      ]
     },
     "execution_count": 4,
     "metadata": {},
     "output_type": "execute_result"
    }
   ],
   "source": [
    "# fill all empty values with data\n",
    "\n",
    "df = df.dropna()\n",
    "\n",
    "df.isnull().sum()"
   ]
  },
  {
   "attachments": {},
   "cell_type": "markdown",
   "metadata": {},
   "source": [
    "# Define allocations"
   ]
  },
  {
   "cell_type": "code",
   "execution_count": 5,
   "metadata": {},
   "outputs": [
    {
     "data": {
      "text/plain": [
       "(1263, 3)"
      ]
     },
     "execution_count": 5,
     "metadata": {},
     "output_type": "execute_result"
    }
   ],
   "source": [
    "# define allocation to each ticker \n",
    "\n",
    "allocations = {'CNDX.L': 0.53737,\n",
    "               'CMOP.L': 0.36195, \n",
    "               'BTC-GBP': 0.10068}\n",
    "\n",
    "#remove null values \n",
    "\n",
    "df.shape\n"
   ]
  },
  {
   "attachments": {},
   "cell_type": "markdown",
   "metadata": {},
   "source": [
    "# Continue building the dataset"
   ]
  },
  {
   "cell_type": "code",
   "execution_count": 6,
   "metadata": {},
   "outputs": [
    {
     "data": {
      "text/plain": [
       "(1263, 3)"
      ]
     },
     "execution_count": 6,
     "metadata": {},
     "output_type": "execute_result"
    }
   ],
   "source": [
    "# remove null values \n",
    "\n",
    "df = df.dropna()\n",
    "\n",
    "df.shape"
   ]
  },
  {
   "cell_type": "code",
   "execution_count": 7,
   "metadata": {},
   "outputs": [
    {
     "data": {
      "text/html": [
       "<div>\n",
       "<style scoped>\n",
       "    .dataframe tbody tr th:only-of-type {\n",
       "        vertical-align: middle;\n",
       "    }\n",
       "\n",
       "    .dataframe tbody tr th {\n",
       "        vertical-align: top;\n",
       "    }\n",
       "\n",
       "    .dataframe thead th {\n",
       "        text-align: right;\n",
       "    }\n",
       "</style>\n",
       "<table border=\"1\" class=\"dataframe\">\n",
       "  <thead>\n",
       "    <tr style=\"text-align: right;\">\n",
       "      <th></th>\n",
       "      <th>CNDX.L</th>\n",
       "      <th>CMOP.L</th>\n",
       "      <th>BTC-GBP</th>\n",
       "      <th>portfolio_returns</th>\n",
       "    </tr>\n",
       "    <tr>\n",
       "      <th>Date</th>\n",
       "      <th></th>\n",
       "      <th></th>\n",
       "      <th></th>\n",
       "      <th></th>\n",
       "    </tr>\n",
       "  </thead>\n",
       "  <tbody>\n",
       "    <tr>\n",
       "      <th>2023-03-24</th>\n",
       "      <td>718.880005</td>\n",
       "      <td>1804.25</td>\n",
       "      <td>23071.191406</td>\n",
       "      <td>-0.002452</td>\n",
       "    </tr>\n",
       "    <tr>\n",
       "      <th>2023-03-27</th>\n",
       "      <td>722.929993</td>\n",
       "      <td>1805.75</td>\n",
       "      <td>22861.289062</td>\n",
       "      <td>0.002412</td>\n",
       "    </tr>\n",
       "    <tr>\n",
       "      <th>2023-03-28</th>\n",
       "      <td>714.494995</td>\n",
       "      <td>1816.50</td>\n",
       "      <td>22070.970703</td>\n",
       "      <td>-0.007596</td>\n",
       "    </tr>\n",
       "    <tr>\n",
       "      <th>2023-03-29</th>\n",
       "      <td>725.765015</td>\n",
       "      <td>1817.50</td>\n",
       "      <td>22114.345703</td>\n",
       "      <td>0.008873</td>\n",
       "    </tr>\n",
       "    <tr>\n",
       "      <th>2023-03-30</th>\n",
       "      <td>735.960022</td>\n",
       "      <td>1811.00</td>\n",
       "      <td>23028.177734</td>\n",
       "      <td>0.010415</td>\n",
       "    </tr>\n",
       "  </tbody>\n",
       "</table>\n",
       "</div>"
      ],
      "text/plain": [
       "                CNDX.L   CMOP.L       BTC-GBP  portfolio_returns\n",
       "Date                                                            \n",
       "2023-03-24  718.880005  1804.25  23071.191406          -0.002452\n",
       "2023-03-27  722.929993  1805.75  22861.289062           0.002412\n",
       "2023-03-28  714.494995  1816.50  22070.970703          -0.007596\n",
       "2023-03-29  725.765015  1817.50  22114.345703           0.008873\n",
       "2023-03-30  735.960022  1811.00  23028.177734           0.010415"
      ]
     },
     "execution_count": 7,
     "metadata": {},
     "output_type": "execute_result"
    }
   ],
   "source": [
    "# calculate the allocation-weighted returns for each ticker\n",
    "returns = df.pct_change()\n",
    "\n",
    "weighted_returns = returns.mul(list(allocations.values()))\n",
    "\n",
    "# calculate the total portfolio returns\n",
    "portfolio_returns = weighted_returns.sum(axis=1)\n",
    "\n",
    "# print the last 5 values of the portfolio returns\n",
    "df['portfolio_returns'] = portfolio_returns\n",
    "\n",
    "df.tail()"
   ]
  },
  {
   "cell_type": "code",
   "execution_count": 8,
   "metadata": {},
   "outputs": [],
   "source": [
    "# define a dictionary with asset class by ticker \n",
    "\n",
    "asset_class = {\n",
    "               'CNDX.L': 'equity', \n",
    "               'CMOP.L': 'commodity', \n",
    "               'BTC-GBP': 'bitcoin'}"
   ]
  },
  {
   "cell_type": "code",
   "execution_count": 9,
   "metadata": {},
   "outputs": [
    {
     "data": {
      "image/png": "[encoded data removed]",
      "text/plain": [
       "<Figure size 432x288 with 1 Axes>"
      ]
     },
     "metadata": {},
     "output_type": "display_data"
    }
   ],
   "source": [
    "# calculate the allocation by asset class\n",
    "asset_class_allocations = {}\n",
    "for ticker, allocation in allocations.items():\n",
    "    ac = asset_class[ticker]\n",
    "    if ac in asset_class_allocations:\n",
    "        asset_class_allocations[ac] += allocation\n",
    "    else:\n",
    "        asset_class_allocations[ac] = allocation\n",
    "\n",
    "# plot the allocation by asset class\n",
    "labels = list(asset_class_allocations.keys())\n",
    "sizes = list(asset_class_allocations.values())\n",
    "plt.pie(sizes, labels=labels, autopct='%1.0f%%')\n",
    "plt.title('Asset Class Allocation')\n",
    "plt.show()"
   ]
  },
  {
   "cell_type": "code",
   "execution_count": 10,
   "metadata": {},
   "outputs": [
    {
     "data": {
      "text/html": [
       "<div>\n",
       "<style scoped>\n",
       "    .dataframe tbody tr th:only-of-type {\n",
       "        vertical-align: middle;\n",
       "    }\n",
       "\n",
       "    .dataframe tbody tr th {\n",
       "        vertical-align: top;\n",
       "    }\n",
       "\n",
       "    .dataframe thead th {\n",
       "        text-align: right;\n",
       "    }\n",
       "</style>\n",
       "<table border=\"1\" class=\"dataframe\">\n",
       "  <thead>\n",
       "    <tr style=\"text-align: right;\">\n",
       "      <th></th>\n",
       "      <th>CNDX.L</th>\n",
       "      <th>CMOP.L</th>\n",
       "      <th>BTC-GBP</th>\n",
       "      <th>portfolio_returns</th>\n",
       "    </tr>\n",
       "    <tr>\n",
       "      <th>Date</th>\n",
       "      <th></th>\n",
       "      <th></th>\n",
       "      <th></th>\n",
       "      <th></th>\n",
       "    </tr>\n",
       "  </thead>\n",
       "  <tbody>\n",
       "    <tr>\n",
       "      <th>2023-03-29</th>\n",
       "      <td>725.765015</td>\n",
       "      <td>1817.5</td>\n",
       "      <td>22114.345703</td>\n",
       "      <td>0.008873</td>\n",
       "    </tr>\n",
       "    <tr>\n",
       "      <th>2023-03-30</th>\n",
       "      <td>735.960022</td>\n",
       "      <td>1811.0</td>\n",
       "      <td>23028.177734</td>\n",
       "      <td>0.010415</td>\n",
       "    </tr>\n",
       "  </tbody>\n",
       "</table>\n",
       "</div>"
      ],
      "text/plain": [
       "                CNDX.L  CMOP.L       BTC-GBP  portfolio_returns\n",
       "Date                                                           \n",
       "2023-03-29  725.765015  1817.5  22114.345703           0.008873\n",
       "2023-03-30  735.960022  1811.0  23028.177734           0.010415"
      ]
     },
     "execution_count": 10,
     "metadata": {},
     "output_type": "execute_result"
    }
   ],
   "source": [
    "df.tail(2)"
   ]
  },
  {
   "cell_type": "code",
   "execution_count": 11,
   "metadata": {},
   "outputs": [],
   "source": [
    "# define ticker currency\n",
    "\n",
    "ticker_currency = {\n",
    "               'CNDX.L': 'USD', \n",
    "               'CMOP.L': 'GBP', \n",
    "               'BTC-GBP': 'GBP'}"
   ]
  },
  {
   "cell_type": "code",
   "execution_count": 12,
   "metadata": {},
   "outputs": [
    {
     "data": {
      "text/html": [
       "<div>\n",
       "<style scoped>\n",
       "    .dataframe tbody tr th:only-of-type {\n",
       "        vertical-align: middle;\n",
       "    }\n",
       "\n",
       "    .dataframe tbody tr th {\n",
       "        vertical-align: top;\n",
       "    }\n",
       "\n",
       "    .dataframe thead th {\n",
       "        text-align: right;\n",
       "    }\n",
       "</style>\n",
       "<table border=\"1\" class=\"dataframe\">\n",
       "  <thead>\n",
       "    <tr style=\"text-align: right;\">\n",
       "      <th></th>\n",
       "      <th>CNDX.L</th>\n",
       "      <th>CMOP.L</th>\n",
       "      <th>BTC-GBP</th>\n",
       "      <th>portfolio_returns</th>\n",
       "      <th>USDGBP</th>\n",
       "      <th>EURGBP</th>\n",
       "    </tr>\n",
       "    <tr>\n",
       "      <th>Date</th>\n",
       "      <th></th>\n",
       "      <th></th>\n",
       "      <th></th>\n",
       "      <th></th>\n",
       "      <th></th>\n",
       "      <th></th>\n",
       "    </tr>\n",
       "  </thead>\n",
       "  <tbody>\n",
       "    <tr>\n",
       "      <th>2023-03-29</th>\n",
       "      <td>725.765015</td>\n",
       "      <td>1817.5</td>\n",
       "      <td>22114.345703</td>\n",
       "      <td>0.008873</td>\n",
       "      <td>0.81100</td>\n",
       "      <td>0.87901</td>\n",
       "    </tr>\n",
       "    <tr>\n",
       "      <th>2023-03-30</th>\n",
       "      <td>735.960022</td>\n",
       "      <td>1811.0</td>\n",
       "      <td>23028.177734</td>\n",
       "      <td>0.010415</td>\n",
       "      <td>0.81211</td>\n",
       "      <td>0.88064</td>\n",
       "    </tr>\n",
       "  </tbody>\n",
       "</table>\n",
       "</div>"
      ],
      "text/plain": [
       "                CNDX.L  CMOP.L       BTC-GBP  portfolio_returns   USDGBP  \\\n",
       "Date                                                                       \n",
       "2023-03-29  725.765015  1817.5  22114.345703           0.008873  0.81100   \n",
       "2023-03-30  735.960022  1811.0  23028.177734           0.010415  0.81211   \n",
       "\n",
       "             EURGBP  \n",
       "Date                 \n",
       "2023-03-29  0.87901  \n",
       "2023-03-30  0.88064  "
      ]
     },
     "execution_count": 12,
     "metadata": {},
     "output_type": "execute_result"
    }
   ],
   "source": [
    "# Get GBP/USD and GBP/EUR exchange rates from Yahoo Finance\n",
    "fx = yf.Ticker(\"USDGBP=X\").history(start=last_5_years, end=yesterday)[\"Close\"]\n",
    "fx = pd.DataFrame(fx)\n",
    "fx.columns = ['USDGBP']\n",
    "fx.index = fx.index.strftime('%Y-%m-%d')\n",
    "fx_eur = yf.Ticker(\"EURGBP=X\").history(start=last_5_years, end=yesterday)[\"Close\"]\n",
    "fx_eur = pd.DataFrame(fx_eur)\n",
    "fx_eur.columns = ['EURGBP']\n",
    "fx_eur.index = fx_eur.index.strftime('%Y-%m-%d')\n",
    "\n",
    "# Merge exchange rate data with original dataframe on date index\n",
    "df = pd.merge(df, fx, left_index=True, right_index=True, how='left')\n",
    "df = pd.merge(df, fx_eur, left_index=True, right_index=True, how='left')\n",
    "\n",
    "df.tail(2)"
   ]
  },
  {
   "cell_type": "code",
   "execution_count": 13,
   "metadata": {},
   "outputs": [
    {
     "data": {
      "text/html": [
       "<div>\n",
       "<style scoped>\n",
       "    .dataframe tbody tr th:only-of-type {\n",
       "        vertical-align: middle;\n",
       "    }\n",
       "\n",
       "    .dataframe tbody tr th {\n",
       "        vertical-align: top;\n",
       "    }\n",
       "\n",
       "    .dataframe thead th {\n",
       "        text-align: right;\n",
       "    }\n",
       "</style>\n",
       "<table border=\"1\" class=\"dataframe\">\n",
       "  <thead>\n",
       "    <tr style=\"text-align: right;\">\n",
       "      <th></th>\n",
       "      <th>CNDX.L</th>\n",
       "      <th>CMOP.L</th>\n",
       "      <th>BTC-GBP</th>\n",
       "      <th>portfolio_returns</th>\n",
       "      <th>USDGBP</th>\n",
       "      <th>EURGBP</th>\n",
       "    </tr>\n",
       "    <tr>\n",
       "      <th>Date</th>\n",
       "      <th></th>\n",
       "      <th></th>\n",
       "      <th></th>\n",
       "      <th></th>\n",
       "      <th></th>\n",
       "      <th></th>\n",
       "    </tr>\n",
       "  </thead>\n",
       "  <tbody>\n",
       "    <tr>\n",
       "      <th>2023-03-29</th>\n",
       "      <td>588.595419</td>\n",
       "      <td>1817.5</td>\n",
       "      <td>22114.345703</td>\n",
       "      <td>0.008873</td>\n",
       "      <td>0.81100</td>\n",
       "      <td>0.87901</td>\n",
       "    </tr>\n",
       "    <tr>\n",
       "      <th>2023-03-30</th>\n",
       "      <td>597.680498</td>\n",
       "      <td>1811.0</td>\n",
       "      <td>23028.177734</td>\n",
       "      <td>0.010415</td>\n",
       "      <td>0.81211</td>\n",
       "      <td>0.88064</td>\n",
       "    </tr>\n",
       "  </tbody>\n",
       "</table>\n",
       "</div>"
      ],
      "text/plain": [
       "                CNDX.L  CMOP.L       BTC-GBP  portfolio_returns   USDGBP  \\\n",
       "Date                                                                       \n",
       "2023-03-29  588.595419  1817.5  22114.345703           0.008873  0.81100   \n",
       "2023-03-30  597.680498  1811.0  23028.177734           0.010415  0.81211   \n",
       "\n",
       "             EURGBP  \n",
       "Date                 \n",
       "2023-03-29  0.87901  \n",
       "2023-03-30  0.88064  "
      ]
     },
     "execution_count": 13,
     "metadata": {},
     "output_type": "execute_result"
    }
   ],
   "source": [
    "# Convert non-GBP tickers to GBP\n",
    "for ticker in tickers:\n",
    "    if ticker_currency[ticker] != 'GBP':\n",
    "        target_fx_rate = df['EURGBP'] if ticker_currency[ticker] == 'EUR' else df['USDGBP']\n",
    "        df[ticker] = df[ticker] * target_fx_rate\n",
    "\n",
    "df.tail(2)     "
   ]
  },
  {
   "cell_type": "code",
   "execution_count": 14,
   "metadata": {},
   "outputs": [
    {
     "data": {
      "text/html": [
       "<div>\n",
       "<style scoped>\n",
       "    .dataframe tbody tr th:only-of-type {\n",
       "        vertical-align: middle;\n",
       "    }\n",
       "\n",
       "    .dataframe tbody tr th {\n",
       "        vertical-align: top;\n",
       "    }\n",
       "\n",
       "    .dataframe thead th {\n",
       "        text-align: right;\n",
       "    }\n",
       "</style>\n",
       "<table border=\"1\" class=\"dataframe\">\n",
       "  <thead>\n",
       "    <tr style=\"text-align: right;\">\n",
       "      <th></th>\n",
       "      <th>CNDX.L</th>\n",
       "      <th>CMOP.L</th>\n",
       "      <th>BTC-GBP</th>\n",
       "      <th>portfolio_returns</th>\n",
       "      <th>USDGBP</th>\n",
       "      <th>EURGBP</th>\n",
       "    </tr>\n",
       "    <tr>\n",
       "      <th>Date</th>\n",
       "      <th></th>\n",
       "      <th></th>\n",
       "      <th></th>\n",
       "      <th></th>\n",
       "      <th></th>\n",
       "      <th></th>\n",
       "    </tr>\n",
       "  </thead>\n",
       "  <tbody>\n",
       "    <tr>\n",
       "      <th>2023-03-29</th>\n",
       "      <td>588.595419</td>\n",
       "      <td>18.175</td>\n",
       "      <td>22114.345703</td>\n",
       "      <td>0.008873</td>\n",
       "      <td>0.81100</td>\n",
       "      <td>0.87901</td>\n",
       "    </tr>\n",
       "    <tr>\n",
       "      <th>2023-03-30</th>\n",
       "      <td>597.680498</td>\n",
       "      <td>18.110</td>\n",
       "      <td>23028.177734</td>\n",
       "      <td>0.010415</td>\n",
       "      <td>0.81211</td>\n",
       "      <td>0.88064</td>\n",
       "    </tr>\n",
       "  </tbody>\n",
       "</table>\n",
       "</div>"
      ],
      "text/plain": [
       "                CNDX.L  CMOP.L       BTC-GBP  portfolio_returns   USDGBP  \\\n",
       "Date                                                                       \n",
       "2023-03-29  588.595419  18.175  22114.345703           0.008873  0.81100   \n",
       "2023-03-30  597.680498  18.110  23028.177734           0.010415  0.81211   \n",
       "\n",
       "             EURGBP  \n",
       "Date                 \n",
       "2023-03-29  0.87901  \n",
       "2023-03-30  0.88064  "
      ]
     },
     "execution_count": 14,
     "metadata": {},
     "output_type": "execute_result"
    }
   ],
   "source": [
    "# convert GBX tickers to GBP \n",
    "\n",
    "df['CMOP.L'] = df['CMOP.L']/100\n",
    "\n",
    "df.tail(2)   "
   ]
  },
  {
   "cell_type": "code",
   "execution_count": 15,
   "metadata": {},
   "outputs": [],
   "source": [
    "# define initial investment amount \n",
    "\n",
    "amount_invested = 10000\n",
    "\n",
    "# Calculate initial investment amount for each ticker based on allocation\n",
    "allocation_values = {ticker: amount_invested * allocation for ticker, allocation in allocations.items()}\n",
    "\n",
    "total_allocation_value = sum(allocation_values.values())\n",
    "\n",
    "allocation_weights = {ticker: allocation_value / total_allocation_value for ticker, allocation_value in allocation_values.items()}\n"
   ]
  },
  {
   "cell_type": "code",
   "execution_count": 16,
   "metadata": {},
   "outputs": [
    {
     "data": {
      "text/html": [
       "<div>\n",
       "<style scoped>\n",
       "    .dataframe tbody tr th:only-of-type {\n",
       "        vertical-align: middle;\n",
       "    }\n",
       "\n",
       "    .dataframe tbody tr th {\n",
       "        vertical-align: top;\n",
       "    }\n",
       "\n",
       "    .dataframe thead th {\n",
       "        text-align: right;\n",
       "    }\n",
       "</style>\n",
       "<table border=\"1\" class=\"dataframe\">\n",
       "  <thead>\n",
       "    <tr style=\"text-align: right;\">\n",
       "      <th></th>\n",
       "      <th>CNDX.L</th>\n",
       "      <th>CMOP.L</th>\n",
       "      <th>BTC-GBP</th>\n",
       "      <th>portfolio_returns</th>\n",
       "      <th>USDGBP</th>\n",
       "      <th>EURGBP</th>\n",
       "    </tr>\n",
       "    <tr>\n",
       "      <th>Date</th>\n",
       "      <th></th>\n",
       "      <th></th>\n",
       "      <th></th>\n",
       "      <th></th>\n",
       "      <th></th>\n",
       "      <th></th>\n",
       "    </tr>\n",
       "  </thead>\n",
       "  <tbody>\n",
       "    <tr>\n",
       "      <th>2018-04-03</th>\n",
       "      <td>254.429529</td>\n",
       "      <td>12.630</td>\n",
       "      <td>5300.426270</td>\n",
       "      <td>0.000000</td>\n",
       "      <td>0.71191</td>\n",
       "      <td>0.87509</td>\n",
       "    </tr>\n",
       "    <tr>\n",
       "      <th>2018-04-04</th>\n",
       "      <td>254.174967</td>\n",
       "      <td>12.495</td>\n",
       "      <td>4865.365234</td>\n",
       "      <td>-0.011832</td>\n",
       "      <td>0.71080</td>\n",
       "      <td>0.87273</td>\n",
       "    </tr>\n",
       "  </tbody>\n",
       "</table>\n",
       "</div>"
      ],
      "text/plain": [
       "                CNDX.L  CMOP.L      BTC-GBP  portfolio_returns   USDGBP  \\\n",
       "Date                                                                      \n",
       "2018-04-03  254.429529  12.630  5300.426270           0.000000  0.71191   \n",
       "2018-04-04  254.174967  12.495  4865.365234          -0.011832  0.71080   \n",
       "\n",
       "             EURGBP  \n",
       "Date                 \n",
       "2018-04-03  0.87509  \n",
       "2018-04-04  0.87273  "
      ]
     },
     "execution_count": 16,
     "metadata": {},
     "output_type": "execute_result"
    }
   ],
   "source": [
    "df.head(2)"
   ]
  },
  {
   "cell_type": "code",
   "execution_count": 17,
   "metadata": {},
   "outputs": [],
   "source": [
    "# select only the columns containing ETFs prices\n",
    "\n",
    "etfs_only = df.iloc[:, :3]"
   ]
  },
  {
   "cell_type": "code",
   "execution_count": 18,
   "metadata": {},
   "outputs": [
    {
     "data": {
      "text/plain": [
       "CNDX.L      254.429529\n",
       "CMOP.L       12.630000\n",
       "BTC-GBP    5300.426270\n",
       "Name: 2018-04-03, dtype: float64"
      ]
     },
     "execution_count": 18,
     "metadata": {},
     "output_type": "execute_result"
    }
   ],
   "source": [
    "initial_prices = etfs_only.iloc[0]\n",
    "\n",
    "initial_prices"
   ]
  },
  {
   "cell_type": "code",
   "execution_count": 19,
   "metadata": {},
   "outputs": [],
   "source": [
    "initial_prices = initial_prices.to_dict()"
   ]
  },
  {
   "cell_type": "code",
   "execution_count": 20,
   "metadata": {},
   "outputs": [
    {
     "data": {
      "text/plain": [
       "{'CNDX.L': 254.42952868217253, 'CMOP.L': 12.63, 'BTC-GBP': 5300.42626953125}"
      ]
     },
     "execution_count": 20,
     "metadata": {},
     "output_type": "execute_result"
    }
   ],
   "source": [
    "initial_prices"
   ]
  },
  {
   "cell_type": "code",
   "execution_count": 21,
   "metadata": {},
   "outputs": [
    {
     "name": "stdout",
     "output_type": "stream",
     "text": [
      "{'CNDX.L': 21, 'CMOP.L': 286, 'BTC-GBP': 0.1899469870541257}\n"
     ]
    }
   ],
   "source": [
    "# calculate the initial allocation of shares \n",
    "\n",
    "allocation_shares = {}\n",
    "for ticker, allocation in allocations.items():\n",
    "    if ticker == 'BTC-GBP':\n",
    "        allocation_shares[ticker] = allocation * 10000 / initial_prices[ticker]\n",
    "    else:\n",
    "        allocation_shares[ticker] = int(allocation * 10000 / initial_prices[ticker])\n",
    "\n",
    "print(allocation_shares)"
   ]
  },
  {
   "cell_type": "code",
   "execution_count": 22,
   "metadata": {},
   "outputs": [
    {
     "name": "stdout",
     "output_type": "stream",
     "text": [
      "{'CNDX.L': 5343.020102325623, 'CMOP.L': 3612.1800000000003, 'BTC-GBP': 1006.8000000000001}\n"
     ]
    }
   ],
   "source": [
    "# calculate initial value for each ticker\n",
    "initial_value = {ticker: allocation_shares[ticker] * initial_prices[ticker] for ticker in tickers}\n",
    "\n",
    "print(initial_value)\n"
   ]
  },
  {
   "cell_type": "code",
   "execution_count": 23,
   "metadata": {},
   "outputs": [
    {
     "name": "stdout",
     "output_type": "stream",
     "text": [
      "9962.000102325623\n"
     ]
    }
   ],
   "source": [
    "# print the actual initial amount invested \n",
    "\n",
    "print(sum(initial_value.values()))"
   ]
  },
  {
   "cell_type": "code",
   "execution_count": 24,
   "metadata": {},
   "outputs": [
    {
     "data": {
      "text/plain": [
       "'2018-04-03'"
      ]
     },
     "execution_count": 24,
     "metadata": {},
     "output_type": "execute_result"
    }
   ],
   "source": [
    "first_day = df.index[0]\n",
    "\n",
    "first_day"
   ]
  },
  {
   "cell_type": "code",
   "execution_count": 25,
   "metadata": {},
   "outputs": [
    {
     "data": {
      "text/html": [
       "<div>\n",
       "<style scoped>\n",
       "    .dataframe tbody tr th:only-of-type {\n",
       "        vertical-align: middle;\n",
       "    }\n",
       "\n",
       "    .dataframe tbody tr th {\n",
       "        vertical-align: top;\n",
       "    }\n",
       "\n",
       "    .dataframe thead th {\n",
       "        text-align: right;\n",
       "    }\n",
       "</style>\n",
       "<table border=\"1\" class=\"dataframe\">\n",
       "  <thead>\n",
       "    <tr style=\"text-align: right;\">\n",
       "      <th></th>\n",
       "      <th>CNDX.L_shares</th>\n",
       "      <th>CMOP.L_shares</th>\n",
       "      <th>BTC-GBP_shares</th>\n",
       "    </tr>\n",
       "  </thead>\n",
       "  <tbody>\n",
       "    <tr>\n",
       "      <th>2018-04-03</th>\n",
       "      <td>21</td>\n",
       "      <td>286</td>\n",
       "      <td>0.189947</td>\n",
       "    </tr>\n",
       "  </tbody>\n",
       "</table>\n",
       "</div>"
      ],
      "text/plain": [
       "            CNDX.L_shares  CMOP.L_shares  BTC-GBP_shares\n",
       "2018-04-03             21            286        0.189947"
      ]
     },
     "execution_count": 25,
     "metadata": {},
     "output_type": "execute_result"
    }
   ],
   "source": [
    "# create a new df with the allocation of shares by ticker \n",
    "\n",
    "shares_df = pd.DataFrame(index=[first_day])\n",
    "for ticker, shares in allocation_shares.items():\n",
    "    shares_df[ticker + \"_shares\"] = shares\n",
    "\n",
    "shares_df.head()\n"
   ]
  },
  {
   "cell_type": "code",
   "execution_count": 26,
   "metadata": {},
   "outputs": [
    {
     "data": {
      "text/html": [
       "<div>\n",
       "<style scoped>\n",
       "    .dataframe tbody tr th:only-of-type {\n",
       "        vertical-align: middle;\n",
       "    }\n",
       "\n",
       "    .dataframe tbody tr th {\n",
       "        vertical-align: top;\n",
       "    }\n",
       "\n",
       "    .dataframe thead th {\n",
       "        text-align: right;\n",
       "    }\n",
       "</style>\n",
       "<table border=\"1\" class=\"dataframe\">\n",
       "  <thead>\n",
       "    <tr style=\"text-align: right;\">\n",
       "      <th></th>\n",
       "      <th>CNDX.L</th>\n",
       "      <th>CMOP.L</th>\n",
       "      <th>BTC-GBP</th>\n",
       "      <th>portfolio_returns</th>\n",
       "      <th>USDGBP</th>\n",
       "      <th>EURGBP</th>\n",
       "      <th>CNDX.L_shares</th>\n",
       "      <th>CMOP.L_shares</th>\n",
       "      <th>BTC-GBP_shares</th>\n",
       "    </tr>\n",
       "    <tr>\n",
       "      <th>Date</th>\n",
       "      <th></th>\n",
       "      <th></th>\n",
       "      <th></th>\n",
       "      <th></th>\n",
       "      <th></th>\n",
       "      <th></th>\n",
       "      <th></th>\n",
       "      <th></th>\n",
       "      <th></th>\n",
       "    </tr>\n",
       "  </thead>\n",
       "  <tbody>\n",
       "    <tr>\n",
       "      <th>2018-04-03</th>\n",
       "      <td>254.429529</td>\n",
       "      <td>12.630</td>\n",
       "      <td>5300.426270</td>\n",
       "      <td>0.000000</td>\n",
       "      <td>0.71191</td>\n",
       "      <td>0.87509</td>\n",
       "      <td>21.0</td>\n",
       "      <td>286.0</td>\n",
       "      <td>0.189947</td>\n",
       "    </tr>\n",
       "    <tr>\n",
       "      <th>2018-04-04</th>\n",
       "      <td>254.174967</td>\n",
       "      <td>12.495</td>\n",
       "      <td>4865.365234</td>\n",
       "      <td>-0.011832</td>\n",
       "      <td>0.71080</td>\n",
       "      <td>0.87273</td>\n",
       "      <td>NaN</td>\n",
       "      <td>NaN</td>\n",
       "      <td>NaN</td>\n",
       "    </tr>\n",
       "  </tbody>\n",
       "</table>\n",
       "</div>"
      ],
      "text/plain": [
       "                CNDX.L  CMOP.L      BTC-GBP  portfolio_returns   USDGBP  \\\n",
       "Date                                                                      \n",
       "2018-04-03  254.429529  12.630  5300.426270           0.000000  0.71191   \n",
       "2018-04-04  254.174967  12.495  4865.365234          -0.011832  0.71080   \n",
       "\n",
       "             EURGBP  CNDX.L_shares  CMOP.L_shares  BTC-GBP_shares  \n",
       "Date                                                               \n",
       "2018-04-03  0.87509           21.0          286.0        0.189947  \n",
       "2018-04-04  0.87273            NaN            NaN             NaN  "
      ]
     },
     "execution_count": 26,
     "metadata": {},
     "output_type": "execute_result"
    }
   ],
   "source": [
    "# merge the two dfs and fill empty shares values \n",
    "\n",
    "df = pd.merge(df, shares_df, how='left', left_index=True, right_index=True)\n",
    "\n",
    "df.head(2)\n"
   ]
  },
  {
   "cell_type": "code",
   "execution_count": 27,
   "metadata": {},
   "outputs": [
    {
     "data": {
      "text/html": [
       "<div>\n",
       "<style scoped>\n",
       "    .dataframe tbody tr th:only-of-type {\n",
       "        vertical-align: middle;\n",
       "    }\n",
       "\n",
       "    .dataframe tbody tr th {\n",
       "        vertical-align: top;\n",
       "    }\n",
       "\n",
       "    .dataframe thead th {\n",
       "        text-align: right;\n",
       "    }\n",
       "</style>\n",
       "<table border=\"1\" class=\"dataframe\">\n",
       "  <thead>\n",
       "    <tr style=\"text-align: right;\">\n",
       "      <th></th>\n",
       "      <th>CNDX.L</th>\n",
       "      <th>CMOP.L</th>\n",
       "      <th>BTC-GBP</th>\n",
       "      <th>portfolio_returns</th>\n",
       "      <th>USDGBP</th>\n",
       "      <th>EURGBP</th>\n",
       "      <th>CNDX.L_shares</th>\n",
       "      <th>CMOP.L_shares</th>\n",
       "      <th>BTC-GBP_shares</th>\n",
       "    </tr>\n",
       "    <tr>\n",
       "      <th>Date</th>\n",
       "      <th></th>\n",
       "      <th></th>\n",
       "      <th></th>\n",
       "      <th></th>\n",
       "      <th></th>\n",
       "      <th></th>\n",
       "      <th></th>\n",
       "      <th></th>\n",
       "      <th></th>\n",
       "    </tr>\n",
       "  </thead>\n",
       "  <tbody>\n",
       "    <tr>\n",
       "      <th>2018-04-03</th>\n",
       "      <td>254.429529</td>\n",
       "      <td>12.6300</td>\n",
       "      <td>5300.426270</td>\n",
       "      <td>0.000000</td>\n",
       "      <td>0.71191</td>\n",
       "      <td>0.87509</td>\n",
       "      <td>21.0</td>\n",
       "      <td>286.0</td>\n",
       "      <td>0.189947</td>\n",
       "    </tr>\n",
       "    <tr>\n",
       "      <th>2018-04-04</th>\n",
       "      <td>254.174967</td>\n",
       "      <td>12.4950</td>\n",
       "      <td>4865.365234</td>\n",
       "      <td>-0.011832</td>\n",
       "      <td>0.71080</td>\n",
       "      <td>0.87273</td>\n",
       "      <td>21.0</td>\n",
       "      <td>286.0</td>\n",
       "      <td>0.189947</td>\n",
       "    </tr>\n",
       "    <tr>\n",
       "      <th>2018-04-05</th>\n",
       "      <td>261.022106</td>\n",
       "      <td>12.6600</td>\n",
       "      <td>4863.598633</td>\n",
       "      <td>0.019981</td>\n",
       "      <td>0.70982</td>\n",
       "      <td>0.87210</td>\n",
       "      <td>21.0</td>\n",
       "      <td>286.0</td>\n",
       "      <td>0.189947</td>\n",
       "    </tr>\n",
       "    <tr>\n",
       "      <th>2018-04-06</th>\n",
       "      <td>258.681346</td>\n",
       "      <td>12.5475</td>\n",
       "      <td>4709.615723</td>\n",
       "      <td>-0.014222</td>\n",
       "      <td>0.71384</td>\n",
       "      <td>0.87450</td>\n",
       "      <td>21.0</td>\n",
       "      <td>286.0</td>\n",
       "      <td>0.189947</td>\n",
       "    </tr>\n",
       "    <tr>\n",
       "      <th>2018-04-09</th>\n",
       "      <td>258.550245</td>\n",
       "      <td>12.6575</td>\n",
       "      <td>4791.401855</td>\n",
       "      <td>0.007828</td>\n",
       "      <td>0.70964</td>\n",
       "      <td>0.87078</td>\n",
       "      <td>21.0</td>\n",
       "      <td>286.0</td>\n",
       "      <td>0.189947</td>\n",
       "    </tr>\n",
       "  </tbody>\n",
       "</table>\n",
       "</div>"
      ],
      "text/plain": [
       "                CNDX.L   CMOP.L      BTC-GBP  portfolio_returns   USDGBP  \\\n",
       "Date                                                                       \n",
       "2018-04-03  254.429529  12.6300  5300.426270           0.000000  0.71191   \n",
       "2018-04-04  254.174967  12.4950  4865.365234          -0.011832  0.71080   \n",
       "2018-04-05  261.022106  12.6600  4863.598633           0.019981  0.70982   \n",
       "2018-04-06  258.681346  12.5475  4709.615723          -0.014222  0.71384   \n",
       "2018-04-09  258.550245  12.6575  4791.401855           0.007828  0.70964   \n",
       "\n",
       "             EURGBP  CNDX.L_shares  CMOP.L_shares  BTC-GBP_shares  \n",
       "Date                                                               \n",
       "2018-04-03  0.87509           21.0          286.0        0.189947  \n",
       "2018-04-04  0.87273           21.0          286.0        0.189947  \n",
       "2018-04-05  0.87210           21.0          286.0        0.189947  \n",
       "2018-04-06  0.87450           21.0          286.0        0.189947  \n",
       "2018-04-09  0.87078           21.0          286.0        0.189947  "
      ]
     },
     "execution_count": 27,
     "metadata": {},
     "output_type": "execute_result"
    }
   ],
   "source": [
    "# fill blanks in shares columns with the values from the first row\n",
    "\n",
    "df['CNDX.L_shares'].fillna(method='ffill', inplace=True)\n",
    "df['CMOP.L_shares'].fillna(method='ffill', inplace=True)\n",
    "df['BTC-GBP_shares'].fillna(method='ffill', inplace=True)\n",
    "\n",
    "df.head(5)"
   ]
  },
  {
   "cell_type": "code",
   "execution_count": 28,
   "metadata": {},
   "outputs": [
    {
     "data": {
      "text/plain": [
       "CNDX.L               1\n",
       "CMOP.L               0\n",
       "BTC-GBP              0\n",
       "portfolio_returns    0\n",
       "USDGBP               1\n",
       "EURGBP               0\n",
       "CNDX.L_shares        0\n",
       "CMOP.L_shares        0\n",
       "BTC-GBP_shares       0\n",
       "dtype: int64"
      ]
     },
     "execution_count": 28,
     "metadata": {},
     "output_type": "execute_result"
    }
   ],
   "source": [
    "df.isnull().sum()"
   ]
  },
  {
   "cell_type": "code",
   "execution_count": 29,
   "metadata": {},
   "outputs": [],
   "source": [
    "# there's several null values in CNDX.L, EXI5.DE, XRES.L and ICOM.L\n",
    "\n",
    "#fill the blanks in prices filling forward \n",
    "\n",
    "df['CNDX.L'].fillna(method='ffill', inplace=True)\n"
   ]
  },
  {
   "cell_type": "code",
   "execution_count": 30,
   "metadata": {},
   "outputs": [
    {
     "data": {
      "text/html": [
       "<div>\n",
       "<style scoped>\n",
       "    .dataframe tbody tr th:only-of-type {\n",
       "        vertical-align: middle;\n",
       "    }\n",
       "\n",
       "    .dataframe tbody tr th {\n",
       "        vertical-align: top;\n",
       "    }\n",
       "\n",
       "    .dataframe thead th {\n",
       "        text-align: right;\n",
       "    }\n",
       "</style>\n",
       "<table border=\"1\" class=\"dataframe\">\n",
       "  <thead>\n",
       "    <tr style=\"text-align: right;\">\n",
       "      <th></th>\n",
       "      <th>CNDX.L</th>\n",
       "      <th>CMOP.L</th>\n",
       "      <th>BTC-GBP</th>\n",
       "      <th>portfolio_returns</th>\n",
       "      <th>USDGBP</th>\n",
       "      <th>EURGBP</th>\n",
       "      <th>CNDX.L_shares</th>\n",
       "      <th>CMOP.L_shares</th>\n",
       "      <th>BTC-GBP_shares</th>\n",
       "      <th>CNDX.L_value</th>\n",
       "      <th>CMOP.L_value</th>\n",
       "      <th>BTC-GBP_value</th>\n",
       "    </tr>\n",
       "    <tr>\n",
       "      <th>Date</th>\n",
       "      <th></th>\n",
       "      <th></th>\n",
       "      <th></th>\n",
       "      <th></th>\n",
       "      <th></th>\n",
       "      <th></th>\n",
       "      <th></th>\n",
       "      <th></th>\n",
       "      <th></th>\n",
       "      <th></th>\n",
       "      <th></th>\n",
       "      <th></th>\n",
       "    </tr>\n",
       "  </thead>\n",
       "  <tbody>\n",
       "    <tr>\n",
       "      <th>2018-04-03</th>\n",
       "      <td>254.429529</td>\n",
       "      <td>12.630</td>\n",
       "      <td>5300.426270</td>\n",
       "      <td>0.000000</td>\n",
       "      <td>0.71191</td>\n",
       "      <td>0.87509</td>\n",
       "      <td>21.0</td>\n",
       "      <td>286.0</td>\n",
       "      <td>0.189947</td>\n",
       "      <td>5343.020102</td>\n",
       "      <td>3612.18</td>\n",
       "      <td>1006.800000</td>\n",
       "    </tr>\n",
       "    <tr>\n",
       "      <th>2018-04-04</th>\n",
       "      <td>254.174967</td>\n",
       "      <td>12.495</td>\n",
       "      <td>4865.365234</td>\n",
       "      <td>-0.011832</td>\n",
       "      <td>0.71080</td>\n",
       "      <td>0.87273</td>\n",
       "      <td>21.0</td>\n",
       "      <td>286.0</td>\n",
       "      <td>0.189947</td>\n",
       "      <td>5337.674298</td>\n",
       "      <td>3573.57</td>\n",
       "      <td>924.161467</td>\n",
       "    </tr>\n",
       "  </tbody>\n",
       "</table>\n",
       "</div>"
      ],
      "text/plain": [
       "                CNDX.L  CMOP.L      BTC-GBP  portfolio_returns   USDGBP  \\\n",
       "Date                                                                      \n",
       "2018-04-03  254.429529  12.630  5300.426270           0.000000  0.71191   \n",
       "2018-04-04  254.174967  12.495  4865.365234          -0.011832  0.71080   \n",
       "\n",
       "             EURGBP  CNDX.L_shares  CMOP.L_shares  BTC-GBP_shares  \\\n",
       "Date                                                                \n",
       "2018-04-03  0.87509           21.0          286.0        0.189947   \n",
       "2018-04-04  0.87273           21.0          286.0        0.189947   \n",
       "\n",
       "            CNDX.L_value  CMOP.L_value  BTC-GBP_value  \n",
       "Date                                                   \n",
       "2018-04-03   5343.020102       3612.18    1006.800000  \n",
       "2018-04-04   5337.674298       3573.57     924.161467  "
      ]
     },
     "execution_count": 30,
     "metadata": {},
     "output_type": "execute_result"
    }
   ],
   "source": [
    "# create columns with the value of shares \n",
    "\n",
    "for ticker in allocation_shares:\n",
    "    df[f\"{ticker}_value\"] = df[ticker] * df[f\"{ticker}_shares\"]\n",
    "\n",
    "df.head(2)"
   ]
  },
  {
   "attachments": {},
   "cell_type": "markdown",
   "metadata": {},
   "source": [
    "# Visualizations"
   ]
  },
  {
   "cell_type": "code",
   "execution_count": 31,
   "metadata": {},
   "outputs": [
    {
     "data": {
      "image/png": "[encoded data removed]",
      "text/plain": [
       "<Figure size 864x576 with 1 Axes>"
      ]
     },
     "metadata": {
      "needs_background": "light"
     },
     "output_type": "display_data"
    }
   ],
   "source": [
    "import matplotlib.pyplot as plt\n",
    "\n",
    "fig, ax = plt.subplots(figsize=(12, 8))\n",
    "\n",
    "df[['CNDX.L_value', 'CMOP.L_value', 'BTC-GBP_value']].plot.area(ax=ax, stacked=True)\n",
    "\n",
    "ax.set_xlabel('Date')\n",
    "ax.set_ylabel('Portfolio Value')\n",
    "ax.yaxis.grid(True)\n",
    "ax.legend(loc='center left', bbox_to_anchor=(1.0, 0.5))\n",
    "\n",
    "plt.title(\"Portfolio value overtime\")\n",
    "plt.show()\n"
   ]
  },
  {
   "cell_type": "code",
   "execution_count": 32,
   "metadata": {},
   "outputs": [],
   "source": [
    "# define a dictionary with asset class by ticker \n",
    "\n",
    "asset_class_value = {\n",
    "               'CNDX.L_value': 'equity', \n",
    "               'CMOP.L_value': 'commodity', \n",
    "               'BTC-GBP_value': 'bitcoin'}"
   ]
  },
  {
   "cell_type": "code",
   "execution_count": 33,
   "metadata": {},
   "outputs": [
    {
     "data": {
      "image/png": "[encoded data removed]",
      "text/plain": [
       "<Figure size 864x432 with 1 Axes>"
      ]
     },
     "metadata": {
      "needs_background": "light"
     },
     "output_type": "display_data"
    }
   ],
   "source": [
    "# group the data by asset class\n",
    "grouped = df.groupby(asset_class_value, axis=1).sum()\n",
    "\n",
    "# plot a stacked area chart\n",
    "ax = grouped.plot.area(stacked=True, figsize=(12, 6))\n",
    "\n",
    "# set chart title and labels\n",
    "ax.set_title('Portfolio Value by Asset Class')\n",
    "ax.set_xlabel('Date')\n",
    "ax.set_ylabel('Value')\n",
    "\n",
    "# add horizontal gridlines\n",
    "ax.yaxis.grid(True)\n",
    "\n",
    "# move the legend outside of the chart area\n",
    "ax.legend(loc='center left', bbox_to_anchor=(1, 0.5))\n",
    "\n",
    "plt.show()\n"
   ]
  },
  {
   "cell_type": "code",
   "execution_count": 34,
   "metadata": {},
   "outputs": [
    {
     "data": {
      "image/png": "[encoded data removed]",
      "text/plain": [
       "<Figure size 720x360 with 2 Axes>"
      ]
     },
     "metadata": {},
     "output_type": "display_data"
    }
   ],
   "source": [
    "# get initial allocation\n",
    "initial_alloc = df.iloc[0]\n",
    "initial_alloc = initial_alloc.groupby(asset_class_value).sum()\n",
    "\n",
    "# get last available allocation\n",
    "last_alloc = df.iloc[-1]\n",
    "last_alloc = last_alloc.groupby(asset_class_value).sum()\n",
    "\n",
    "# create subplots with 1 row and 2 columns\n",
    "fig, axs = plt.subplots(1, 2, figsize=(10, 5))\n",
    "\n",
    "# plot the initial allocation pie chart\n",
    "axs[0].pie(initial_alloc, labels=initial_alloc.index, autopct='%1.1f%%')\n",
    "axs[0].set_title('Initial Allocation')\n",
    "\n",
    "# plot the last allocation pie chart\n",
    "axs[1].pie(last_alloc, labels=last_alloc.index, autopct='%1.1f%%')\n",
    "axs[1].set_title('Last Available Allocation')\n",
    "\n",
    "# display the plot\n",
    "plt.show()\n"
   ]
  },
  {
   "attachments": {},
   "cell_type": "markdown",
   "metadata": {},
   "source": [
    "# Add risk-free rate data"
   ]
  },
  {
   "cell_type": "code",
   "execution_count": 35,
   "metadata": {},
   "outputs": [
    {
     "data": {
      "text/html": [
       "<div>\n",
       "<style scoped>\n",
       "    .dataframe tbody tr th:only-of-type {\n",
       "        vertical-align: middle;\n",
       "    }\n",
       "\n",
       "    .dataframe tbody tr th {\n",
       "        vertical-align: top;\n",
       "    }\n",
       "\n",
       "    .dataframe thead th {\n",
       "        text-align: right;\n",
       "    }\n",
       "</style>\n",
       "<table border=\"1\" class=\"dataframe\">\n",
       "  <thead>\n",
       "    <tr style=\"text-align: right;\">\n",
       "      <th></th>\n",
       "      <th>CNDX.L</th>\n",
       "      <th>CMOP.L</th>\n",
       "      <th>BTC-GBP</th>\n",
       "      <th>portfolio_returns</th>\n",
       "      <th>USDGBP</th>\n",
       "      <th>EURGBP</th>\n",
       "      <th>CNDX.L_shares</th>\n",
       "      <th>CMOP.L_shares</th>\n",
       "      <th>BTC-GBP_shares</th>\n",
       "      <th>CNDX.L_value</th>\n",
       "      <th>CMOP.L_value</th>\n",
       "      <th>BTC-GBP_value</th>\n",
       "      <th>tbill_rate</th>\n",
       "    </tr>\n",
       "    <tr>\n",
       "      <th>Date</th>\n",
       "      <th></th>\n",
       "      <th></th>\n",
       "      <th></th>\n",
       "      <th></th>\n",
       "      <th></th>\n",
       "      <th></th>\n",
       "      <th></th>\n",
       "      <th></th>\n",
       "      <th></th>\n",
       "      <th></th>\n",
       "      <th></th>\n",
       "      <th></th>\n",
       "      <th></th>\n",
       "    </tr>\n",
       "  </thead>\n",
       "  <tbody>\n",
       "    <tr>\n",
       "      <th>2023-03-29</th>\n",
       "      <td>588.595419</td>\n",
       "      <td>18.175</td>\n",
       "      <td>22114.345703</td>\n",
       "      <td>0.008873</td>\n",
       "      <td>0.81100</td>\n",
       "      <td>0.87901</td>\n",
       "      <td>21.0</td>\n",
       "      <td>286.0</td>\n",
       "      <td>0.189947</td>\n",
       "      <td>12360.503805</td>\n",
       "      <td>5198.05</td>\n",
       "      <td>4200.553337</td>\n",
       "      <td>4.8</td>\n",
       "    </tr>\n",
       "    <tr>\n",
       "      <th>2023-03-30</th>\n",
       "      <td>597.680498</td>\n",
       "      <td>18.110</td>\n",
       "      <td>23028.177734</td>\n",
       "      <td>0.010415</td>\n",
       "      <td>0.81211</td>\n",
       "      <td>0.88064</td>\n",
       "      <td>21.0</td>\n",
       "      <td>286.0</td>\n",
       "      <td>0.189947</td>\n",
       "      <td>12551.290468</td>\n",
       "      <td>5179.46</td>\n",
       "      <td>4374.132978</td>\n",
       "      <td>NaN</td>\n",
       "    </tr>\n",
       "  </tbody>\n",
       "</table>\n",
       "</div>"
      ],
      "text/plain": [
       "                CNDX.L  CMOP.L       BTC-GBP  portfolio_returns   USDGBP  \\\n",
       "Date                                                                       \n",
       "2023-03-29  588.595419  18.175  22114.345703           0.008873  0.81100   \n",
       "2023-03-30  597.680498  18.110  23028.177734           0.010415  0.81211   \n",
       "\n",
       "             EURGBP  CNDX.L_shares  CMOP.L_shares  BTC-GBP_shares  \\\n",
       "Date                                                                \n",
       "2023-03-29  0.87901           21.0          286.0        0.189947   \n",
       "2023-03-30  0.88064           21.0          286.0        0.189947   \n",
       "\n",
       "            CNDX.L_value  CMOP.L_value  BTC-GBP_value  tbill_rate  \n",
       "Date                                                               \n",
       "2023-03-29  12360.503805       5198.05    4200.553337         4.8  \n",
       "2023-03-30  12551.290468       5179.46    4374.132978         NaN  "
      ]
     },
     "execution_count": 35,
     "metadata": {},
     "output_type": "execute_result"
    }
   ],
   "source": [
    "import pandas_datareader as pdr\n",
    "\n",
    "# Define the start and end dates\n",
    "last_5_years = dt.date.today() - dt.timedelta(days=1825)\n",
    "yesterday = dt.date.today()\n",
    "\n",
    "# Pull the US 3-month T-bill rate from FRED\n",
    "tbill_rate = pdr.DataReader('DGS3MO', 'fred', last_5_years, yesterday)\n",
    "\n",
    "# Rename the column to 'tbill_rate'\n",
    "tbill_rate = tbill_rate.rename(columns={'DGS3MO': 'tbill_rate'})\n",
    "\n",
    "#format day column\n",
    "tbill_rate.index = tbill_rate.index.strftime('%Y-%m-%d')\n",
    "\n",
    "# Merge the tbill_rate dataframe with the original dataframe\n",
    "df = pd.merge(df, tbill_rate, left_index=True, right_index=True, how='left')\n",
    "\n",
    "df.tail(2)"
   ]
  },
  {
   "cell_type": "code",
   "execution_count": 36,
   "metadata": {},
   "outputs": [],
   "source": [
    "df['tbill_rate'].fillna(method='ffill', inplace=True)"
   ]
  },
  {
   "attachments": {},
   "cell_type": "markdown",
   "metadata": {},
   "source": [
    "# Continue analysis"
   ]
  },
  {
   "cell_type": "code",
   "execution_count": 37,
   "metadata": {},
   "outputs": [],
   "source": [
    "# calculate total portfolio value\n",
    "\n",
    "df['portfolio_total_value'] = df[[\n",
    " 'CNDX.L_value',\n",
    " 'CMOP.L_value',\n",
    " 'BTC-GBP_value']].sum(axis=1)\n",
    "\n"
   ]
  },
  {
   "cell_type": "code",
   "execution_count": 38,
   "metadata": {},
   "outputs": [
    {
     "data": {
      "text/plain": [
       "Date\n",
       "2023-03-24    21834.465664\n",
       "2023-03-27    21904.008848\n",
       "2023-03-28    21588.628422\n",
       "2023-03-29    21759.107142\n",
       "2023-03-30    22104.883446\n",
       "Name: portfolio_total_value, dtype: float64"
      ]
     },
     "execution_count": 38,
     "metadata": {},
     "output_type": "execute_result"
    }
   ],
   "source": [
    "df['portfolio_total_value'].tail(5)"
   ]
  },
  {
   "cell_type": "code",
   "execution_count": 39,
   "metadata": {},
   "outputs": [
    {
     "data": {
      "text/plain": [
       "Date\n",
       "2018-04-03         NaN\n",
       "2018-04-04   -1.270772\n",
       "2018-04-05    1.938348\n",
       "2018-04-06   -1.102923\n",
       "2018-04-09    0.446191\n",
       "Name: portfolio_daily_returns, dtype: float64"
      ]
     },
     "execution_count": 39,
     "metadata": {},
     "output_type": "execute_result"
    }
   ],
   "source": [
    "# calculate the change in portfolio total value \n",
    "\n",
    "df['portfolio_daily_returns'] = df['portfolio_total_value'].pct_change()*100\n",
    "\n",
    "df['portfolio_daily_returns'].head(5)"
   ]
  },
  {
   "cell_type": "code",
   "execution_count": 40,
   "metadata": {},
   "outputs": [
    {
     "data": {
      "text/html": [
       "<div>\n",
       "<style scoped>\n",
       "    .dataframe tbody tr th:only-of-type {\n",
       "        vertical-align: middle;\n",
       "    }\n",
       "\n",
       "    .dataframe tbody tr th {\n",
       "        vertical-align: top;\n",
       "    }\n",
       "\n",
       "    .dataframe thead th {\n",
       "        text-align: right;\n",
       "    }\n",
       "</style>\n",
       "<table border=\"1\" class=\"dataframe\">\n",
       "  <thead>\n",
       "    <tr style=\"text-align: right;\">\n",
       "      <th></th>\n",
       "      <th>CNDX.L</th>\n",
       "      <th>CMOP.L</th>\n",
       "      <th>BTC-GBP</th>\n",
       "      <th>portfolio_returns</th>\n",
       "      <th>USDGBP</th>\n",
       "      <th>EURGBP</th>\n",
       "      <th>CNDX.L_shares</th>\n",
       "      <th>CMOP.L_shares</th>\n",
       "      <th>BTC-GBP_shares</th>\n",
       "      <th>CNDX.L_value</th>\n",
       "      <th>CMOP.L_value</th>\n",
       "      <th>BTC-GBP_value</th>\n",
       "      <th>tbill_rate</th>\n",
       "      <th>portfolio_total_value</th>\n",
       "      <th>portfolio_daily_returns</th>\n",
       "    </tr>\n",
       "    <tr>\n",
       "      <th>Date</th>\n",
       "      <th></th>\n",
       "      <th></th>\n",
       "      <th></th>\n",
       "      <th></th>\n",
       "      <th></th>\n",
       "      <th></th>\n",
       "      <th></th>\n",
       "      <th></th>\n",
       "      <th></th>\n",
       "      <th></th>\n",
       "      <th></th>\n",
       "      <th></th>\n",
       "      <th></th>\n",
       "      <th></th>\n",
       "      <th></th>\n",
       "    </tr>\n",
       "  </thead>\n",
       "  <tbody>\n",
       "    <tr>\n",
       "      <th>2018-04-03</th>\n",
       "      <td>254.429529</td>\n",
       "      <td>12.630</td>\n",
       "      <td>5300.426270</td>\n",
       "      <td>0.000000</td>\n",
       "      <td>0.71191</td>\n",
       "      <td>0.87509</td>\n",
       "      <td>21.0</td>\n",
       "      <td>286.0</td>\n",
       "      <td>0.189947</td>\n",
       "      <td>5343.020102</td>\n",
       "      <td>3612.18</td>\n",
       "      <td>1006.800000</td>\n",
       "      <td>1.75</td>\n",
       "      <td>9962.000102</td>\n",
       "      <td>NaN</td>\n",
       "    </tr>\n",
       "    <tr>\n",
       "      <th>2018-04-04</th>\n",
       "      <td>254.174967</td>\n",
       "      <td>12.495</td>\n",
       "      <td>4865.365234</td>\n",
       "      <td>-0.011832</td>\n",
       "      <td>0.71080</td>\n",
       "      <td>0.87273</td>\n",
       "      <td>21.0</td>\n",
       "      <td>286.0</td>\n",
       "      <td>0.189947</td>\n",
       "      <td>5337.674298</td>\n",
       "      <td>3573.57</td>\n",
       "      <td>924.161467</td>\n",
       "      <td>1.71</td>\n",
       "      <td>9835.405765</td>\n",
       "      <td>-1.270772</td>\n",
       "    </tr>\n",
       "  </tbody>\n",
       "</table>\n",
       "</div>"
      ],
      "text/plain": [
       "                CNDX.L  CMOP.L      BTC-GBP  portfolio_returns   USDGBP  \\\n",
       "Date                                                                      \n",
       "2018-04-03  254.429529  12.630  5300.426270           0.000000  0.71191   \n",
       "2018-04-04  254.174967  12.495  4865.365234          -0.011832  0.71080   \n",
       "\n",
       "             EURGBP  CNDX.L_shares  CMOP.L_shares  BTC-GBP_shares  \\\n",
       "Date                                                                \n",
       "2018-04-03  0.87509           21.0          286.0        0.189947   \n",
       "2018-04-04  0.87273           21.0          286.0        0.189947   \n",
       "\n",
       "            CNDX.L_value  CMOP.L_value  BTC-GBP_value  tbill_rate  \\\n",
       "Date                                                                \n",
       "2018-04-03   5343.020102       3612.18    1006.800000        1.75   \n",
       "2018-04-04   5337.674298       3573.57     924.161467        1.71   \n",
       "\n",
       "            portfolio_total_value  portfolio_daily_returns  \n",
       "Date                                                        \n",
       "2018-04-03            9962.000102                      NaN  \n",
       "2018-04-04            9835.405765                -1.270772  "
      ]
     },
     "execution_count": 40,
     "metadata": {},
     "output_type": "execute_result"
    }
   ],
   "source": [
    "df.head(2)"
   ]
  },
  {
   "cell_type": "code",
   "execution_count": 41,
   "metadata": {},
   "outputs": [
    {
     "name": "stdout",
     "output_type": "stream",
     "text": [
      "0.07261786153297477\n",
      "1.372044298838657\n",
      "18.29970110630964\n"
     ]
    }
   ],
   "source": [
    "mean_daily_returns = df['portfolio_daily_returns'].mean()\n",
    "\n",
    "std_daily_returns = df['portfolio_daily_returns'].std()\n",
    "\n",
    "yearly_returns = (mean_daily_returns)*252\n",
    "\n",
    "print(mean_daily_returns)\n",
    "print(std_daily_returns)\n",
    "print(yearly_returns)"
   ]
  },
  {
   "cell_type": "code",
   "execution_count": 42,
   "metadata": {},
   "outputs": [
    {
     "name": "stdout",
     "output_type": "stream",
     "text": [
      "4.8\n",
      "9.839114610028428\n"
     ]
    }
   ],
   "source": [
    "last_tbill_rate = df['tbill_rate'].iloc[-2]\n",
    "\n",
    "print(last_tbill_rate)\n",
    "\n",
    "sharpe_ratio = (yearly_returns-last_tbill_rate)/std_daily_returns\n",
    "\n",
    "print(sharpe_ratio)"
   ]
  },
  {
   "attachments": {},
   "cell_type": "markdown",
   "metadata": {},
   "source": [
    "# Compare to other benchmarks"
   ]
  },
  {
   "cell_type": "code",
   "execution_count": 43,
   "metadata": {},
   "outputs": [
    {
     "data": {
      "text/html": [
       "<div>\n",
       "<style scoped>\n",
       "    .dataframe tbody tr th:only-of-type {\n",
       "        vertical-align: middle;\n",
       "    }\n",
       "\n",
       "    .dataframe tbody tr th {\n",
       "        vertical-align: top;\n",
       "    }\n",
       "\n",
       "    .dataframe thead th {\n",
       "        text-align: right;\n",
       "    }\n",
       "</style>\n",
       "<table border=\"1\" class=\"dataframe\">\n",
       "  <thead>\n",
       "    <tr style=\"text-align: right;\">\n",
       "      <th></th>\n",
       "      <th>CNDX.L</th>\n",
       "      <th>CMOP.L</th>\n",
       "      <th>BTC-GBP</th>\n",
       "      <th>portfolio_returns</th>\n",
       "      <th>USDGBP</th>\n",
       "      <th>EURGBP</th>\n",
       "      <th>CNDX.L_shares</th>\n",
       "      <th>CMOP.L_shares</th>\n",
       "      <th>BTC-GBP_shares</th>\n",
       "      <th>CNDX.L_value</th>\n",
       "      <th>CMOP.L_value</th>\n",
       "      <th>BTC-GBP_value</th>\n",
       "      <th>tbill_rate</th>\n",
       "      <th>portfolio_total_value</th>\n",
       "      <th>portfolio_daily_returns</th>\n",
       "    </tr>\n",
       "    <tr>\n",
       "      <th>Date</th>\n",
       "      <th></th>\n",
       "      <th></th>\n",
       "      <th></th>\n",
       "      <th></th>\n",
       "      <th></th>\n",
       "      <th></th>\n",
       "      <th></th>\n",
       "      <th></th>\n",
       "      <th></th>\n",
       "      <th></th>\n",
       "      <th></th>\n",
       "      <th></th>\n",
       "      <th></th>\n",
       "      <th></th>\n",
       "      <th></th>\n",
       "    </tr>\n",
       "  </thead>\n",
       "  <tbody>\n",
       "    <tr>\n",
       "      <th>2018-04-03</th>\n",
       "      <td>254.429529</td>\n",
       "      <td>12.630</td>\n",
       "      <td>5300.426270</td>\n",
       "      <td>0.000000</td>\n",
       "      <td>0.71191</td>\n",
       "      <td>0.87509</td>\n",
       "      <td>21.0</td>\n",
       "      <td>286.0</td>\n",
       "      <td>0.189947</td>\n",
       "      <td>5343.020102</td>\n",
       "      <td>3612.18</td>\n",
       "      <td>1006.800000</td>\n",
       "      <td>1.75</td>\n",
       "      <td>9962.000102</td>\n",
       "      <td>NaN</td>\n",
       "    </tr>\n",
       "    <tr>\n",
       "      <th>2018-04-04</th>\n",
       "      <td>254.174967</td>\n",
       "      <td>12.495</td>\n",
       "      <td>4865.365234</td>\n",
       "      <td>-0.011832</td>\n",
       "      <td>0.71080</td>\n",
       "      <td>0.87273</td>\n",
       "      <td>21.0</td>\n",
       "      <td>286.0</td>\n",
       "      <td>0.189947</td>\n",
       "      <td>5337.674298</td>\n",
       "      <td>3573.57</td>\n",
       "      <td>924.161467</td>\n",
       "      <td>1.71</td>\n",
       "      <td>9835.405765</td>\n",
       "      <td>-1.270772</td>\n",
       "    </tr>\n",
       "  </tbody>\n",
       "</table>\n",
       "</div>"
      ],
      "text/plain": [
       "                CNDX.L  CMOP.L      BTC-GBP  portfolio_returns   USDGBP  \\\n",
       "Date                                                                      \n",
       "2018-04-03  254.429529  12.630  5300.426270           0.000000  0.71191   \n",
       "2018-04-04  254.174967  12.495  4865.365234          -0.011832  0.71080   \n",
       "\n",
       "             EURGBP  CNDX.L_shares  CMOP.L_shares  BTC-GBP_shares  \\\n",
       "Date                                                                \n",
       "2018-04-03  0.87509           21.0          286.0        0.189947   \n",
       "2018-04-04  0.87273           21.0          286.0        0.189947   \n",
       "\n",
       "            CNDX.L_value  CMOP.L_value  BTC-GBP_value  tbill_rate  \\\n",
       "Date                                                                \n",
       "2018-04-03   5343.020102       3612.18    1006.800000        1.75   \n",
       "2018-04-04   5337.674298       3573.57     924.161467        1.71   \n",
       "\n",
       "            portfolio_total_value  portfolio_daily_returns  \n",
       "Date                                                        \n",
       "2018-04-03            9962.000102                      NaN  \n",
       "2018-04-04            9835.405765                -1.270772  "
      ]
     },
     "execution_count": 43,
     "metadata": {},
     "output_type": "execute_result"
    }
   ],
   "source": [
    "df.head(2)"
   ]
  },
  {
   "cell_type": "code",
   "execution_count": 44,
   "metadata": {},
   "outputs": [
    {
     "data": {
      "text/plain": [
       "<AxesSubplot:xlabel='Date'>"
      ]
     },
     "execution_count": 44,
     "metadata": {},
     "output_type": "execute_result"
    },
    {
     "data": {
      "image/png": "[encoded data removed]",
      "text/plain": [
       "<Figure size 432x288 with 1 Axes>"
      ]
     },
     "metadata": {
      "needs_background": "light"
     },
     "output_type": "display_data"
    }
   ],
   "source": [
    "# calculate the portfolio cumulative returns \n",
    "\n",
    "df['portfolio_cumulative_returns'] = (1 + df['portfolio_total_value'].pct_change()).cumprod()\n",
    "\n",
    "df['portfolio_cumulative_returns'].plot()"
   ]
  },
  {
   "cell_type": "code",
   "execution_count": 45,
   "metadata": {},
   "outputs": [
    {
     "data": {
      "text/html": [
       "<div>\n",
       "<style scoped>\n",
       "    .dataframe tbody tr th:only-of-type {\n",
       "        vertical-align: middle;\n",
       "    }\n",
       "\n",
       "    .dataframe tbody tr th {\n",
       "        vertical-align: top;\n",
       "    }\n",
       "\n",
       "    .dataframe thead th {\n",
       "        text-align: right;\n",
       "    }\n",
       "</style>\n",
       "<table border=\"1\" class=\"dataframe\">\n",
       "  <thead>\n",
       "    <tr style=\"text-align: right;\">\n",
       "      <th></th>\n",
       "      <th>SPY</th>\n",
       "    </tr>\n",
       "    <tr>\n",
       "      <th>Date</th>\n",
       "      <th></th>\n",
       "    </tr>\n",
       "  </thead>\n",
       "  <tbody>\n",
       "    <tr>\n",
       "      <th>2018-04-02</th>\n",
       "      <td>236.436142</td>\n",
       "    </tr>\n",
       "    <tr>\n",
       "      <th>2018-04-03</th>\n",
       "      <td>239.466537</td>\n",
       "    </tr>\n",
       "    <tr>\n",
       "      <th>2018-04-04</th>\n",
       "      <td>242.028580</td>\n",
       "    </tr>\n",
       "    <tr>\n",
       "      <th>2018-04-05</th>\n",
       "      <td>243.938660</td>\n",
       "    </tr>\n",
       "    <tr>\n",
       "      <th>2018-04-06</th>\n",
       "      <td>238.502319</td>\n",
       "    </tr>\n",
       "  </tbody>\n",
       "</table>\n",
       "</div>"
      ],
      "text/plain": [
       "                   SPY\n",
       "Date                  \n",
       "2018-04-02  236.436142\n",
       "2018-04-03  239.466537\n",
       "2018-04-04  242.028580\n",
       "2018-04-05  243.938660\n",
       "2018-04-06  238.502319"
      ]
     },
     "execution_count": 45,
     "metadata": {},
     "output_type": "execute_result"
    }
   ],
   "source": [
    "# download SPY data and compare \n",
    "\n",
    "tickers = ['SPY']\n",
    "\n",
    "# use a for loop to fetch the \"Close\" price data for each ticker\n",
    "dfs = []\n",
    "for ticker in tickers:\n",
    "    t = yf.Ticker(ticker)\n",
    "    data = t.history(start=last_5_years, end=yesterday)\n",
    "    data = pd.DataFrame(data['Close'])\n",
    "    data.columns = [ticker]\n",
    "    data.index = data.index.strftime('%Y-%m-%d')\n",
    "    dfs.append(data)\n",
    "\n",
    "# Merge dataframes using index date\n",
    "df_spy = dfs[0]\n",
    "for i in range(1, len(dfs)):\n",
    "    df_spy = pd.merge(df, dfs[i], how='outer', left_index=True, right_index=True)\n",
    "\n",
    "# Rename the columns with the tickers\n",
    "df_spy.columns = tickers\n",
    "\n",
    "df_spy.head(5)"
   ]
  },
  {
   "cell_type": "code",
   "execution_count": 47,
   "metadata": {},
   "outputs": [
    {
     "data": {
      "text/html": [
       "<div>\n",
       "<style scoped>\n",
       "    .dataframe tbody tr th:only-of-type {\n",
       "        vertical-align: middle;\n",
       "    }\n",
       "\n",
       "    .dataframe tbody tr th {\n",
       "        vertical-align: top;\n",
       "    }\n",
       "\n",
       "    .dataframe thead th {\n",
       "        text-align: right;\n",
       "    }\n",
       "</style>\n",
       "<table border=\"1\" class=\"dataframe\">\n",
       "  <thead>\n",
       "    <tr style=\"text-align: right;\">\n",
       "      <th></th>\n",
       "      <th>CNDX.L</th>\n",
       "      <th>CMOP.L</th>\n",
       "      <th>BTC-GBP</th>\n",
       "      <th>portfolio_returns</th>\n",
       "      <th>USDGBP</th>\n",
       "      <th>EURGBP</th>\n",
       "      <th>CNDX.L_shares</th>\n",
       "      <th>CMOP.L_shares</th>\n",
       "      <th>BTC-GBP_shares</th>\n",
       "      <th>CNDX.L_value</th>\n",
       "      <th>CMOP.L_value</th>\n",
       "      <th>BTC-GBP_value</th>\n",
       "      <th>tbill_rate</th>\n",
       "      <th>portfolio_total_value</th>\n",
       "      <th>portfolio_daily_returns</th>\n",
       "      <th>portfolio_cumulative_returns</th>\n",
       "      <th>SPY</th>\n",
       "    </tr>\n",
       "    <tr>\n",
       "      <th>Date</th>\n",
       "      <th></th>\n",
       "      <th></th>\n",
       "      <th></th>\n",
       "      <th></th>\n",
       "      <th></th>\n",
       "      <th></th>\n",
       "      <th></th>\n",
       "      <th></th>\n",
       "      <th></th>\n",
       "      <th></th>\n",
       "      <th></th>\n",
       "      <th></th>\n",
       "      <th></th>\n",
       "      <th></th>\n",
       "      <th></th>\n",
       "      <th></th>\n",
       "      <th></th>\n",
       "    </tr>\n",
       "  </thead>\n",
       "  <tbody>\n",
       "    <tr>\n",
       "      <th>2018-04-03</th>\n",
       "      <td>254.429529</td>\n",
       "      <td>12.630</td>\n",
       "      <td>5300.426270</td>\n",
       "      <td>0.000000</td>\n",
       "      <td>0.71191</td>\n",
       "      <td>0.87509</td>\n",
       "      <td>21.0</td>\n",
       "      <td>286.0</td>\n",
       "      <td>0.189947</td>\n",
       "      <td>5343.020102</td>\n",
       "      <td>3612.18</td>\n",
       "      <td>1006.800000</td>\n",
       "      <td>1.75</td>\n",
       "      <td>9962.000102</td>\n",
       "      <td>NaN</td>\n",
       "      <td>NaN</td>\n",
       "      <td>239.466537</td>\n",
       "    </tr>\n",
       "    <tr>\n",
       "      <th>2018-04-04</th>\n",
       "      <td>254.174967</td>\n",
       "      <td>12.495</td>\n",
       "      <td>4865.365234</td>\n",
       "      <td>-0.011832</td>\n",
       "      <td>0.71080</td>\n",
       "      <td>0.87273</td>\n",
       "      <td>21.0</td>\n",
       "      <td>286.0</td>\n",
       "      <td>0.189947</td>\n",
       "      <td>5337.674298</td>\n",
       "      <td>3573.57</td>\n",
       "      <td>924.161467</td>\n",
       "      <td>1.71</td>\n",
       "      <td>9835.405765</td>\n",
       "      <td>-1.270772</td>\n",
       "      <td>0.987292</td>\n",
       "      <td>242.028580</td>\n",
       "    </tr>\n",
       "  </tbody>\n",
       "</table>\n",
       "</div>"
      ],
      "text/plain": [
       "                CNDX.L  CMOP.L      BTC-GBP  portfolio_returns   USDGBP  \\\n",
       "Date                                                                      \n",
       "2018-04-03  254.429529  12.630  5300.426270           0.000000  0.71191   \n",
       "2018-04-04  254.174967  12.495  4865.365234          -0.011832  0.71080   \n",
       "\n",
       "             EURGBP  CNDX.L_shares  CMOP.L_shares  BTC-GBP_shares  \\\n",
       "Date                                                                \n",
       "2018-04-03  0.87509           21.0          286.0        0.189947   \n",
       "2018-04-04  0.87273           21.0          286.0        0.189947   \n",
       "\n",
       "            CNDX.L_value  CMOP.L_value  BTC-GBP_value  tbill_rate  \\\n",
       "Date                                                                \n",
       "2018-04-03   5343.020102       3612.18    1006.800000        1.75   \n",
       "2018-04-04   5337.674298       3573.57     924.161467        1.71   \n",
       "\n",
       "            portfolio_total_value  portfolio_daily_returns  \\\n",
       "Date                                                         \n",
       "2018-04-03            9962.000102                      NaN   \n",
       "2018-04-04            9835.405765                -1.270772   \n",
       "\n",
       "            portfolio_cumulative_returns         SPY  \n",
       "Date                                                  \n",
       "2018-04-03                           NaN  239.466537  \n",
       "2018-04-04                      0.987292  242.028580  "
      ]
     },
     "execution_count": 47,
     "metadata": {},
     "output_type": "execute_result"
    }
   ],
   "source": [
    "# merge spy data with existing df\n",
    "\n",
    "df = pd.merge(df, df_spy, how='left', left_index=True, right_index=True)\n",
    "\n",
    "df.head(2)"
   ]
  },
  {
   "cell_type": "code",
   "execution_count": 50,
   "metadata": {},
   "outputs": [],
   "source": [
    "# calculate spy returns \n",
    "\n",
    "df['spy_cumulative_returns'] = (1 + df['SPY'].pct_change()).cumprod()"
   ]
  },
  {
   "cell_type": "code",
   "execution_count": 58,
   "metadata": {},
   "outputs": [
    {
     "data": {
      "image/png": "[encoded data removed]",
      "text/plain": [
       "<Figure size 864x576 with 1 Axes>"
      ]
     },
     "metadata": {
      "needs_background": "light"
     },
     "output_type": "display_data"
    }
   ],
   "source": [
    "#chart portfolio returns vs SPY returns\n",
    "\n",
    "fig, ax = plt.subplots(figsize=(12, 8))\n",
    "\n",
    "labels = ['Portfolio Returns', 'SPY returns']\n",
    "\n",
    "df[['portfolio_cumulative_returns', 'spy_cumulative_returns']].plot(ax=ax)\n",
    "\n",
    "ax.set_xlabel('Date')\n",
    "ax.set_ylabel('Portfolio Returns vs SPY Returns')\n",
    "ax.yaxis.grid(True)\n",
    "ax.legend(labels=labels, loc='center left', bbox_to_anchor=(1.0, 0.5))\n",
    "\n",
    "plt.title(\"Portfolio returns vs SPY\")\n",
    "plt.show()"
   ]
  },
  {
   "attachments": {},
   "cell_type": "markdown",
   "metadata": {},
   "source": [
    "# Add more benchmarks"
   ]
  },
  {
   "cell_type": "code",
   "execution_count": 70,
   "metadata": {},
   "outputs": [
    {
     "data": {
      "text/html": [
       "<div>\n",
       "<style scoped>\n",
       "    .dataframe tbody tr th:only-of-type {\n",
       "        vertical-align: middle;\n",
       "    }\n",
       "\n",
       "    .dataframe tbody tr th {\n",
       "        vertical-align: top;\n",
       "    }\n",
       "\n",
       "    .dataframe thead th {\n",
       "        text-align: right;\n",
       "    }\n",
       "</style>\n",
       "<table border=\"1\" class=\"dataframe\">\n",
       "  <thead>\n",
       "    <tr style=\"text-align: right;\">\n",
       "      <th></th>\n",
       "      <th>QQQ</th>\n",
       "    </tr>\n",
       "    <tr>\n",
       "      <th>Date</th>\n",
       "      <th></th>\n",
       "    </tr>\n",
       "  </thead>\n",
       "  <tbody>\n",
       "    <tr>\n",
       "      <th>2018-04-02</th>\n",
       "      <td>150.255463</td>\n",
       "    </tr>\n",
       "    <tr>\n",
       "      <th>2018-04-03</th>\n",
       "      <td>151.946381</td>\n",
       "    </tr>\n",
       "    <tr>\n",
       "      <th>2018-04-04</th>\n",
       "      <td>154.342636</td>\n",
       "    </tr>\n",
       "    <tr>\n",
       "      <th>2018-04-05</th>\n",
       "      <td>155.221832</td>\n",
       "    </tr>\n",
       "    <tr>\n",
       "      <th>2018-04-06</th>\n",
       "      <td>151.337692</td>\n",
       "    </tr>\n",
       "  </tbody>\n",
       "</table>\n",
       "</div>"
      ],
      "text/plain": [
       "                   QQQ\n",
       "Date                  \n",
       "2018-04-02  150.255463\n",
       "2018-04-03  151.946381\n",
       "2018-04-04  154.342636\n",
       "2018-04-05  155.221832\n",
       "2018-04-06  151.337692"
      ]
     },
     "execution_count": 70,
     "metadata": {},
     "output_type": "execute_result"
    }
   ],
   "source": [
    "# download SPY data and compare \n",
    "\n",
    "tickers = ['QQQ']\n",
    "\n",
    "# use a for loop to fetch the \"Close\" price data for each ticker\n",
    "dfs = []\n",
    "for ticker in tickers:\n",
    "    t = yf.Ticker(ticker)\n",
    "    data = t.history(start=last_5_years, end=yesterday)\n",
    "    data = pd.DataFrame(data['Close'])\n",
    "    data.columns = [ticker]\n",
    "    data.index = data.index.strftime('%Y-%m-%d')\n",
    "    dfs.append(data)\n",
    "\n",
    "# Merge dataframes using index date\n",
    "df_qqq = dfs[0]\n",
    "for i in range(1, len(dfs)):\n",
    "    df_qqq = pd.merge(df, dfs[i], how='outer', left_index=True, right_index=True)\n",
    "\n",
    "# Rename the columns with the tickers\n",
    "df_qqq.columns = tickers\n",
    "\n",
    "df_qqq.head(5)"
   ]
  },
  {
   "cell_type": "code",
   "execution_count": 71,
   "metadata": {},
   "outputs": [
    {
     "data": {
      "text/html": [
       "<div>\n",
       "<style scoped>\n",
       "    .dataframe tbody tr th:only-of-type {\n",
       "        vertical-align: middle;\n",
       "    }\n",
       "\n",
       "    .dataframe tbody tr th {\n",
       "        vertical-align: top;\n",
       "    }\n",
       "\n",
       "    .dataframe thead th {\n",
       "        text-align: right;\n",
       "    }\n",
       "</style>\n",
       "<table border=\"1\" class=\"dataframe\">\n",
       "  <thead>\n",
       "    <tr style=\"text-align: right;\">\n",
       "      <th></th>\n",
       "      <th>CNDX.L</th>\n",
       "      <th>CMOP.L</th>\n",
       "      <th>BTC-GBP</th>\n",
       "      <th>portfolio_returns</th>\n",
       "      <th>USDGBP</th>\n",
       "      <th>EURGBP</th>\n",
       "      <th>CNDX.L_shares</th>\n",
       "      <th>CMOP.L_shares</th>\n",
       "      <th>BTC-GBP_shares</th>\n",
       "      <th>CNDX.L_value</th>\n",
       "      <th>CMOP.L_value</th>\n",
       "      <th>BTC-GBP_value</th>\n",
       "      <th>tbill_rate</th>\n",
       "      <th>portfolio_total_value</th>\n",
       "      <th>portfolio_daily_returns</th>\n",
       "      <th>portfolio_cumulative_returns</th>\n",
       "      <th>SPY</th>\n",
       "      <th>spy_cumulative_returns</th>\n",
       "      <th>QQQ</th>\n",
       "    </tr>\n",
       "    <tr>\n",
       "      <th>Date</th>\n",
       "      <th></th>\n",
       "      <th></th>\n",
       "      <th></th>\n",
       "      <th></th>\n",
       "      <th></th>\n",
       "      <th></th>\n",
       "      <th></th>\n",
       "      <th></th>\n",
       "      <th></th>\n",
       "      <th></th>\n",
       "      <th></th>\n",
       "      <th></th>\n",
       "      <th></th>\n",
       "      <th></th>\n",
       "      <th></th>\n",
       "      <th></th>\n",
       "      <th></th>\n",
       "      <th></th>\n",
       "      <th></th>\n",
       "    </tr>\n",
       "  </thead>\n",
       "  <tbody>\n",
       "    <tr>\n",
       "      <th>2018-04-03</th>\n",
       "      <td>254.429529</td>\n",
       "      <td>12.630</td>\n",
       "      <td>5300.426270</td>\n",
       "      <td>0.000000</td>\n",
       "      <td>0.71191</td>\n",
       "      <td>0.87509</td>\n",
       "      <td>21.0</td>\n",
       "      <td>286.0</td>\n",
       "      <td>0.189947</td>\n",
       "      <td>5343.020102</td>\n",
       "      <td>3612.18</td>\n",
       "      <td>1006.800000</td>\n",
       "      <td>1.75</td>\n",
       "      <td>9962.000102</td>\n",
       "      <td>NaN</td>\n",
       "      <td>NaN</td>\n",
       "      <td>239.466537</td>\n",
       "      <td>NaN</td>\n",
       "      <td>151.946381</td>\n",
       "    </tr>\n",
       "    <tr>\n",
       "      <th>2018-04-04</th>\n",
       "      <td>254.174967</td>\n",
       "      <td>12.495</td>\n",
       "      <td>4865.365234</td>\n",
       "      <td>-0.011832</td>\n",
       "      <td>0.71080</td>\n",
       "      <td>0.87273</td>\n",
       "      <td>21.0</td>\n",
       "      <td>286.0</td>\n",
       "      <td>0.189947</td>\n",
       "      <td>5337.674298</td>\n",
       "      <td>3573.57</td>\n",
       "      <td>924.161467</td>\n",
       "      <td>1.71</td>\n",
       "      <td>9835.405765</td>\n",
       "      <td>-1.270772</td>\n",
       "      <td>0.987292</td>\n",
       "      <td>242.028580</td>\n",
       "      <td>1.010699</td>\n",
       "      <td>154.342636</td>\n",
       "    </tr>\n",
       "  </tbody>\n",
       "</table>\n",
       "</div>"
      ],
      "text/plain": [
       "                CNDX.L  CMOP.L      BTC-GBP  portfolio_returns   USDGBP  \\\n",
       "Date                                                                      \n",
       "2018-04-03  254.429529  12.630  5300.426270           0.000000  0.71191   \n",
       "2018-04-04  254.174967  12.495  4865.365234          -0.011832  0.71080   \n",
       "\n",
       "             EURGBP  CNDX.L_shares  CMOP.L_shares  BTC-GBP_shares  \\\n",
       "Date                                                                \n",
       "2018-04-03  0.87509           21.0          286.0        0.189947   \n",
       "2018-04-04  0.87273           21.0          286.0        0.189947   \n",
       "\n",
       "            CNDX.L_value  CMOP.L_value  BTC-GBP_value  tbill_rate  \\\n",
       "Date                                                                \n",
       "2018-04-03   5343.020102       3612.18    1006.800000        1.75   \n",
       "2018-04-04   5337.674298       3573.57     924.161467        1.71   \n",
       "\n",
       "            portfolio_total_value  portfolio_daily_returns  \\\n",
       "Date                                                         \n",
       "2018-04-03            9962.000102                      NaN   \n",
       "2018-04-04            9835.405765                -1.270772   \n",
       "\n",
       "            portfolio_cumulative_returns         SPY  spy_cumulative_returns  \\\n",
       "Date                                                                           \n",
       "2018-04-03                           NaN  239.466537                     NaN   \n",
       "2018-04-04                      0.987292  242.028580                1.010699   \n",
       "\n",
       "                   QQQ  \n",
       "Date                    \n",
       "2018-04-03  151.946381  \n",
       "2018-04-04  154.342636  "
      ]
     },
     "execution_count": 71,
     "metadata": {},
     "output_type": "execute_result"
    }
   ],
   "source": [
    "# merge spy data with existing df\n",
    "\n",
    "df = pd.merge(df, df_qqq, how='left', left_index=True, right_index=True)\n",
    "\n",
    "df.head(2)"
   ]
  },
  {
   "cell_type": "code",
   "execution_count": 72,
   "metadata": {},
   "outputs": [],
   "source": [
    "# calculate spy returns \n",
    "\n",
    "df['qqq_cumulative_returns'] = (1 + df['QQQ'].pct_change()).cumprod()"
   ]
  },
  {
   "cell_type": "code",
   "execution_count": 75,
   "metadata": {},
   "outputs": [
    {
     "data": {
      "image/png": "[encoded data removed]",
      "text/plain": [
       "<Figure size 864x576 with 1 Axes>"
      ]
     },
     "metadata": {
      "needs_background": "light"
     },
     "output_type": "display_data"
    }
   ],
   "source": [
    "#chart portfolio returns vs SPY returns\n",
    "\n",
    "fig, ax = plt.subplots(figsize=(12, 8))\n",
    "\n",
    "labels = ['Portfolio Returns', 'SPY returns', 'QQQ returns']\n",
    "\n",
    "df[['portfolio_cumulative_returns', 'spy_cumulative_returns', 'qqq_cumulative_returns']].plot(ax=ax)\n",
    "\n",
    "ax.set_xlabel('Date')\n",
    "ax.set_ylabel('Portfolio Returns vs SPY Returns vs Nasdaq returns')\n",
    "ax.yaxis.grid(True)\n",
    "ax.legend(labels=labels, loc='center left', bbox_to_anchor=(1.0, 0.5))\n",
    "\n",
    "plt.title(\"Portfolio returns vs SPY\")\n",
    "plt.show()"
   ]
  },
  {
   "cell_type": "code",
   "execution_count": null,
   "metadata": {},
   "outputs": [],
   "source": []
  }
 ],
 "metadata": {
  "kernelspec": {
   "display_name": "Python 3",
   "language": "python",
   "name": "python3"
  },
  "language_info": {
   "codemirror_mode": {
    "name": "ipython",
    "version": 3
   },
   "file_extension": ".py",
   "mimetype": "text/x-python",
   "name": "python",
   "nbconvert_exporter": "python",
   "pygments_lexer": "ipython3",
   "version": "3.10.1"
  },
  "orig_nbformat": 4
 },
 "nbformat": 4,
 "nbformat_minor": 2
}
